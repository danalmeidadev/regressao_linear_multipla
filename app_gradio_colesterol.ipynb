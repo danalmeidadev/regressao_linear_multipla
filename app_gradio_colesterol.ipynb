{
 "cells": [
  {
   "cell_type": "code",
   "execution_count": 1,
   "id": "initial_id",
   "metadata": {
    "collapsed": true,
    "ExecuteTime": {
     "end_time": "2024-02-29T23:40:24.729749Z",
     "start_time": "2024-02-29T23:40:21.644626Z"
    }
   },
   "outputs": [],
   "source": [
    "import gradio as gr\n",
    "import joblib\n",
    "import pandas as pd"
   ]
  },
  {
   "cell_type": "code",
   "outputs": [],
   "source": [
    "modelo = joblib.load('modelo_colesterol.pkl')"
   ],
   "metadata": {
    "collapsed": false,
    "ExecuteTime": {
     "end_time": "2024-03-01T00:13:13.299350Z",
     "start_time": "2024-03-01T00:13:13.292661Z"
    }
   },
   "id": "c3699979956a4a46",
   "execution_count": 26
  },
  {
   "cell_type": "code",
   "outputs": [],
   "source": [
    "from enum import Enum\n",
    "\n",
    "class Fumante(Enum):\n",
    "    SIM = 'Sim'\n",
    "    NAO = 'Não'\n",
    "def predict(grupo_sanguineo: str, fumante: Fumante, nivel_atividade_fisica: str, idade: float, peso: float, altura: float):\n",
    "    dados = {\n",
    "        'grupo_sanguineo': grupo_sanguineo,\n",
    "        'fumante': fumante,\n",
    "        'nivel_atividade_fisica': nivel_atividade_fisica,\n",
    "        'idade': idade,\n",
    "        'peso': peso,\n",
    "        'altura': altura\n",
    "    }\n",
    "    predict_df = pd.DataFrame(dados, index=[1])\n",
    "    colesterol = modelo.predict(predict_df)\n",
    "    return colesterol.reshape(-1)"
   ],
   "metadata": {
    "collapsed": false,
    "ExecuteTime": {
     "end_time": "2024-03-01T00:13:19.722644Z",
     "start_time": "2024-03-01T00:13:19.718162Z"
    }
   },
   "id": "b88b38a065f0f52c",
   "execution_count": 27
  },
  {
   "cell_type": "code",
   "outputs": [],
   "source": [
    "demo = gr.Interface(\n",
    "    fn=predict,\n",
    "    inputs=[\n",
    "        gr.Radio(['O', 'A', 'B', 'AB'], label='Grupo Sanguíneo'),\n",
    "         gr.Radio(['Sim', 'Não'], label='Fumante'),\n",
    "        gr.Radio(['Baixo', 'Moderado', 'Alto'], label='Nível de Atividade Física'),\n",
    "        gr.Slider(20, 80, step=1, label='Idade'),\n",
    "        gr.Slider(40, 160, step=0.1, label='Peso'),\n",
    "        gr.Slider(150, 200, step=1, label='Altura'),\n",
    "    ],\n",
    "    outputs=['number']\n",
    ")"
   ],
   "metadata": {
    "collapsed": false,
    "ExecuteTime": {
     "end_time": "2024-03-01T00:23:46.962633Z",
     "start_time": "2024-03-01T00:23:46.857970Z"
    }
   },
   "id": "79bb4c4f6aaee2a0",
   "execution_count": 43
  },
  {
   "cell_type": "code",
   "outputs": [
    {
     "name": "stdout",
     "output_type": "stream",
     "text": [
      "Running on local URL:  http://127.0.0.1:7871\n",
      "\n",
      "To create a public link, set `share=True` in `launch()`.\n"
     ]
    },
    {
     "data": {
      "text/plain": "<IPython.core.display.HTML object>",
      "text/html": "<div><iframe src=\"http://127.0.0.1:7871/\" width=\"100%\" height=\"500\" allow=\"autoplay; camera; microphone; clipboard-read; clipboard-write;\" frameborder=\"0\" allowfullscreen></iframe></div>"
     },
     "metadata": {},
     "output_type": "display_data"
    },
    {
     "data": {
      "text/plain": ""
     },
     "execution_count": 44,
     "metadata": {},
     "output_type": "execute_result"
    }
   ],
   "source": [
    "demo.launch()"
   ],
   "metadata": {
    "collapsed": false,
    "ExecuteTime": {
     "end_time": "2024-03-01T00:23:50.306110Z",
     "start_time": "2024-03-01T00:23:50.187491Z"
    }
   },
   "id": "a33ec5286b36bb4e",
   "execution_count": 44
  }
 ],
 "metadata": {
  "kernelspec": {
   "display_name": "Python 3",
   "language": "python",
   "name": "python3"
  },
  "language_info": {
   "codemirror_mode": {
    "name": "ipython",
    "version": 2
   },
   "file_extension": ".py",
   "mimetype": "text/x-python",
   "name": "python",
   "nbconvert_exporter": "python",
   "pygments_lexer": "ipython2",
   "version": "2.7.6"
  }
 },
 "nbformat": 4,
 "nbformat_minor": 5
}
